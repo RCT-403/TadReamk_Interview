{
 "cells": [
  {
   "cell_type": "code",
   "execution_count": null,
   "metadata": {},
   "outputs": [],
   "source": [
    "import pandas as pd\n",
    "import matplotlib.pyplot as plt\n",
    "import numpy as np\n",
    "import matplotlib.pyplot as plt\n",
    "from PIL import Image\n",
    "\n",
    "# Read the data\n",
    "designs = pd.read_csv('raw_designs.csv', index_col=0)\n",
    "corr = pd.read_csv('raw_correlation.csv', index_col=0)\n",
    "\n",
    "def weighted_jaccard_similarity(x, y):\n",
    "    x_nonzero = x[x != 0].index\n",
    "    y_nonzero = y[y != 0].index\n",
    "    xy_nonzero = x_nonzero.union(y_nonzero)\n",
    "    weights = []\n",
    "    \n",
    "    # For each column in xy_nonzero, get the max between all its previous entries xy_nonzero\n",
    "    for i in range(len(xy_nonzero)):\n",
    "        weight = 1\n",
    "        max_cor = 0\n",
    "        for j in range(i):\n",
    "            if corr.iloc[int(xy_nonzero[i]), int(xy_nonzero[j])] > max_cor:\n",
    "                weight = 1 - corr.iloc[int(xy_nonzero[i]), int(xy_nonzero[j])]\n",
    "        weight = float(weight)\n",
    "        weights.append(weight)\n",
    "    # make a dictionary where each non_zero column is a key and the value is the weight\n",
    "    weights_dict = dict(zip(xy_nonzero, weights))\n",
    "    \n",
    "    # calculate the weighted jaccard similarity\n",
    "    numerator = 0\n",
    "    denominator = 0\n",
    "    for i in xy_nonzero:\n",
    "        numerator += min(x[i], y[i]) * weights_dict[i]\n",
    "        denominator += max(x[i], y[i]) * weights_dict[i]  \n",
    "    \n",
    "    if numerator == 0 and denominator == 0:\n",
    "        return 1\n",
    "    \n",
    "    return numerator/denominator\n",
    "\n",
    "def jaccard_similarity(x,y):\n",
    "    x_nonzero = x[x != 0].index\n",
    "    y_nonzero = y[y != 0].index\n",
    "    xy_nonzero = x_nonzero.union(y_nonzero)\n",
    "    \n",
    "    numerator = 0\n",
    "    denominator = 0\n",
    "    for i in xy_nonzero:\n",
    "        numerator += min(x[i], y[i])\n",
    "        denominator += max(x[i], y[i])\n",
    "    \n",
    "    return numerator/denominator\n",
    "\n",
    "def design_code_similarity_score(x,y):\n",
    "    x = x.map(lambda i: 1 if i != 0 else 0)\n",
    "    y = y.map(lambda i: 1 if i != 0 else 0)\n",
    "    return weighted_jaccard_similarity(x, y)\n",
    "\n"
   ]
  },
  {
   "cell_type": "code",
   "execution_count": null,
   "metadata": {},
   "outputs": [
    {
     "name": "stdout",
     "output_type": "stream",
     "text": [
      "0\n",
      "10\n",
      "20\n",
      "30\n",
      "40\n",
      "50\n",
      "60\n",
      "70\n",
      "80\n",
      "90\n",
      "100\n",
      "110\n",
      "120\n",
      "130\n",
      "140\n",
      "150\n",
      "160\n",
      "170\n",
      "180\n",
      "190\n",
      "200\n",
      "210\n",
      "220\n",
      "230\n",
      "240\n",
      "250\n",
      "260\n",
      "270\n",
      "280\n",
      "290\n",
      "300\n",
      "310\n",
      "320\n",
      "330\n",
      "340\n",
      "350\n",
      "360\n",
      "370\n",
      "380\n",
      "390\n",
      "400\n",
      "410\n",
      "420\n",
      "430\n",
      "440\n",
      "450\n",
      "460\n",
      "470\n",
      "480\n",
      "490\n",
      "500\n",
      "510\n",
      "520\n",
      "530\n",
      "540\n",
      "550\n",
      "560\n",
      "570\n",
      "580\n",
      "590\n",
      "600\n",
      "610\n",
      "620\n",
      "630\n",
      "640\n",
      "650\n",
      "660\n",
      "670\n",
      "680\n",
      "690\n",
      "700\n",
      "710\n",
      "720\n",
      "730\n",
      "740\n",
      "750\n",
      "760\n",
      "770\n",
      "780\n",
      "790\n",
      "800\n",
      "810\n",
      "820\n",
      "830\n",
      "840\n",
      "850\n",
      "860\n",
      "870\n",
      "880\n",
      "890\n",
      "900\n",
      "910\n",
      "920\n",
      "930\n",
      "940\n",
      "950\n",
      "960\n",
      "970\n",
      "980\n",
      "990\n"
     ]
    }
   ],
   "source": [
    "\n",
    "scores = []\n",
    "for k in range(5):\n",
    "    for i in range(200):\n",
    "        for j in range(i):\n",
    "            scores.append(design_code_similarity_score(designs.iloc[200*k+i], designs.iloc[200*k+j]))\n",
    "        if i % 10 == 0:\n",
    "            print(200*k+i)\n",
    "    "
   ]
  },
  {
   "cell_type": "code",
   "execution_count": 25,
   "metadata": {},
   "outputs": [],
   "source": [
    "np_scores = np.array(scores)"
   ]
  },
  {
   "cell_type": "code",
   "execution_count": null,
   "metadata": {},
   "outputs": [
    {
     "data": {
      "image/png": "[encoded data removed]",
      "text/plain": [
       "<Figure size 640x480 with 1 Axes>"
      ]
     },
     "metadata": {},
     "output_type": "display_data"
    },
    {
     "data": {
      "image/png": "[encoded data removed]",
      "text/plain": [
       "<Figure size 640x480 with 1 Axes>"
      ]
     },
     "metadata": {},
     "output_type": "display_data"
    },
    {
     "ename": "",
     "evalue": "",
     "output_type": "error",
     "traceback": [
      "\u001b[1;31mThe Kernel crashed while executing code in the current cell or a previous cell. \n",
      "\u001b[1;31mPlease review the code in the cell(s) to identify a possible cause of the failure. \n",
      "\u001b[1;31mClick <a href='https://aka.ms/vscodeJupyterKernelCrash'>here</a> for more info. \n",
      "\u001b[1;31mView Jupyter <a href='command:jupyter.viewOutput'>log</a> for further details."
     ]
    }
   ],
   "source": [
    "# plot np_scores that are greater than 0\n",
    "np_scores_2 = np.sqrt(np_scores)\n",
    "plt.hist(np_scores_2[np_scores_2 > 0], bins=100)\n",
    "plt.show()\n",
    "\n",
    "plt.hist(np_scores[np_scores > 0], bins=100)\n",
    "plt.show()"
   ]
  },
  {
   "cell_type": "code",
   "execution_count": null,
   "metadata": {},
   "outputs": [],
   "source": []
  }
 ],
 "metadata": {
  "kernelspec": {
   "display_name": "Python 3",
   "language": "python",
   "name": "python3"
  },
  "language_info": {
   "codemirror_mode": {
    "name": "ipython",
    "version": 3
   },
   "file_extension": ".py",
   "mimetype": "text/x-python",
   "name": "python",
   "nbconvert_exporter": "python",
   "pygments_lexer": "ipython3",
   "version": "3.11.11"
  }
 },
 "nbformat": 4,
 "nbformat_minor": 2
}
